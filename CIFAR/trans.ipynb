{
 "cells": [
  {
   "cell_type": "code",
   "execution_count": 6,
   "id": "83df1474",
   "metadata": {},
   "outputs": [
    {
     "name": "stdout",
     "output_type": "stream",
     "text": [
      "==> Building model..\n",
      "Files already downloaded and verified\n"
     ]
    }
   ],
   "source": [
    "import torch\n",
    "import torch.backends.cudnn as cudnn\n",
    "import torch.nn.parallel\n",
    "import torchvision\n",
    "import torchvision.transforms as transforms\n",
    "\n",
    "from models import *\n",
    "from utils import *\n",
    "\n",
    "\n",
    "# Model\n",
    "print('==> Building model..')\n",
    "original_model = ResNet18()\n",
    "dict = torch.load('./checkpoint/resnet18_93.36.pth')\n",
    "\n",
    "# original_model = VGG('VGG16')\n",
    "# dict = torch.load('./checkpoint/vgg16_92.24.pth')\n",
    "\n",
    "device = 'cuda' if torch.cuda.is_available() else 'cpu'\n",
    "original_model = original_model.to(device)\n",
    "original_model = torch.nn.DataParallel(original_model)\n",
    "original_model.load_state_dict(dict)\n",
    "\n",
    "transform_test = transforms.Compose([transforms.ToTensor(),transforms.Normalize((0.4914, 0.4822, 0.4465), (0.2023, 0.1994, 0.2010)),])\n",
    "testset = torchvision.datasets.CIFAR10(root='./data', train=False, download=True, transform=transform_test)\n",
    "testloader = torch.utils.data.DataLoader(testset, batch_size=128, shuffle=False, num_workers=2)"
   ]
  },
  {
   "cell_type": "code",
   "execution_count": 10,
   "id": "b834ff8b",
   "metadata": {},
   "outputs": [
    {
     "name": "stdout",
     "output_type": "stream",
     "text": [
      "The inference accuracy of the encrypted model is  10.00\n",
      "%\n",
      "The authorization key:\n",
      "('module.conv1.weight', [32, 32])\n",
      "('module.layer1.0.conv1.weight', [16, 16, 4, 1, 1, 8, 4, 2, 2, 2, 2, 2, 4])\n",
      "('module.layer1.0.conv2.weight', [8, 16, 8, 8, 4, 1, 4, 1, 1, 8, 2, 2, 1])\n",
      "('module.layer1.1.conv1.weight', [8, 32, 1, 16, 1, 1, 1, 1, 2, 1])\n",
      "('module.layer1.1.conv2.weight', [1, 16, 4, 16, 4, 1, 1, 1, 8, 4, 8])\n",
      "('module.layer2.0.conv1.weight', [16, 1, 32, 2, 1, 8, 2, 1, 1])\n",
      "('module.layer2.0.conv2.weight', [64, 8, 4, 4, 16, 4, 2, 16, 2, 2, 4, 2])\n",
      "('module.layer2.1.conv1.weight', [16, 4, 16, 32, 4, 2, 8, 1, 1, 8, 1, 8, 16, 1, 4, 2, 1, 1, 2])\n",
      "('module.layer2.1.conv2.weight', [4, 1, 1, 32, 64, 2, 2, 8, 8, 2, 1, 2, 1])\n",
      "('module.layer3.0.conv1.weight', [8, 4, 64, 2, 32, 1, 16, 1])\n",
      "('module.layer3.0.conv2.weight', [64, 2, 32, 128, 8, 1, 2, 8, 4, 4, 1, 1, 1])\n",
      "('module.layer3.1.conv1.weight', [4, 8, 16, 1, 32, 128, 32, 4, 4, 2, 2, 4, 2, 8, 8, 1])\n",
      "('module.layer3.1.conv2.weight', [64, 4, 1, 64, 4, 64, 2, 32, 16, 4, 1])\n",
      "('module.layer4.0.conv1.weight', [2, 64, 2, 8, 1, 32, 1, 32, 1, 8, 16, 1, 2, 2, 1, 16, 16, 4, 1, 2, 32, 8, 1, 1, 1, 1])\n",
      "('module.layer4.0.conv2.weight', [1, 16, 16, 8, 4, 16, 16, 4, 8, 1, 4, 16, 256, 16, 64, 1, 64, 1])\n",
      "('module.layer4.1.conv1.weight', [32, 256, 32, 64, 1, 16, 2, 8, 32, 8, 2, 1, 4, 8, 2, 1, 32, 2, 2, 4, 2, 1])\n",
      "('module.layer4.1.conv2.weight', [2, 4, 2, 8, 128, 32, 64, 2, 1, 4, 32, 16, 4, 16, 8, 128, 2, 16, 8, 1, 8, 16, 1, 4, 2, 1, 2])\n"
     ]
    }
   ],
   "source": [
    "encrypted_model, authorization_key = EncryptModel(original_model, enc_layers_num=-1)\n",
    "encrypted_accuracy = easy_test(testloader, encrypted_model)\n",
    "print('The inference accuracy of the encrypted model is  %.2f\\n' % encrypted_accuracy + '%')\n",
    "print('The authorization key:')\n",
    "for item in authorization_key:\n",
    "    print(item)\n"
   ]
  },
  {
   "cell_type": "code",
   "execution_count": 22,
   "id": "fa1d2d16",
   "metadata": {},
   "outputs": [
    {
     "name": "stdout",
     "output_type": "stream",
     "text": [
      "Encrypted model size: 44.787467 MB\n",
      "Authorization key size: 0.001218 MB\n",
      "Hash values size: 0.000671 MB\n"
     ]
    }
   ],
   "source": [
    "import pickle\n",
    "\n",
    "len_encrypted_model = len(pickle.dumps(encrypted_model)) \n",
    "print(f\"Encrypted model size: {len_encrypted_model / (10**6):.6f} MB\")\n",
    "len_authorization_key = len(pickle.dumps(authorization_key)) \n",
    "print(f\"Authorization key size: {len_authorization_key / (10**6):.6f} MB\")\n",
    "\n",
    "hash_values = []\n",
    "conv_names = prepare.search_conv(encrypted_model)\n",
    "enc_dic = encrypted_model.state_dict()\n",
    "for weight_name in conv_names:\n",
    "    hash_values.append(hashn(enc_dic[weight_name]))\n",
    "\n",
    "len_hash_values = len(pickle.dumps(hash_values)) \n",
    "print(f\"Hash values size: {len_hash_values / (10**6):.6f} MB\")"
   ]
  }
 ],
 "metadata": {
  "interpreter": {
   "hash": "a06eba322dcc6bd37a5125ae0a3257b91e2e738745d3e02c95f9c8b1df4bd97e"
  },
  "kernelspec": {
   "display_name": "Python 3.6.13 ('torch1.7')",
   "language": "python",
   "name": "python3"
  },
  "language_info": {
   "codemirror_mode": {
    "name": "ipython",
    "version": 3
   },
   "file_extension": ".py",
   "mimetype": "text/x-python",
   "name": "python",
   "nbconvert_exporter": "python",
   "pygments_lexer": "ipython3",
   "version": "3.7.13"
  },
  "toc": {
   "base_numbering": 1,
   "nav_menu": {},
   "number_sections": true,
   "sideBar": true,
   "skip_h1_title": false,
   "title_cell": "Table of Contents",
   "title_sidebar": "Contents",
   "toc_cell": false,
   "toc_position": {},
   "toc_section_display": true,
   "toc_window_display": false
  },
  "varInspector": {
   "cols": {
    "lenName": 16,
    "lenType": 16,
    "lenVar": 40
   },
   "kernels_config": {
    "python": {
     "delete_cmd_postfix": "",
     "delete_cmd_prefix": "del ",
     "library": "var_list.py",
     "varRefreshCmd": "print(var_dic_list())"
    },
    "r": {
     "delete_cmd_postfix": ") ",
     "delete_cmd_prefix": "rm(",
     "library": "var_list.r",
     "varRefreshCmd": "cat(var_dic_list()) "
    }
   },
   "types_to_exclude": [
    "module",
    "function",
    "builtin_function_or_method",
    "instance",
    "_Feature"
   ],
   "window_display": false
  }
 },
 "nbformat": 4,
 "nbformat_minor": 5
}
